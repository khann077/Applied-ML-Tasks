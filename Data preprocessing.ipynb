{
  "cells": [
    {
      "cell_type": "markdown",
      "id": "f2d5be44-3708-4405-b93d-9de77bd5fbda",
      "metadata": {
        "id": "f2d5be44-3708-4405-b93d-9de77bd5fbda"
      },
      "source": [
        "---\n",
        "<h1 style=\"text-align: center;\">\n",
        "CSCI 4521: Applied Machine Learning (Fall 2024)\n",
        "</h1>\n",
        "\n",
        "<h1 style=\"text-align: center;\">\n",
        "Homework 1\n",
        "</h1>\n",
        "\n",
        "<h3 style=\"text-align: center;\">\n",
        "(Due Thu, Sept. 19, 11:59 PM CT)\n",
        "</h3>\n",
        "\n",
        "---"
      ]
    },
    {
      "cell_type": "markdown",
      "id": "8d5be1aa-5953-4fae-b666-a06957d504d6",
      "metadata": {
        "id": "8d5be1aa-5953-4fae-b666-a06957d504d6"
      },
      "source": [
        "### Let's consider the breast cancer dataset `breast_cancer_csci4521.csv`. Each row is a sample and column is a feature (or label). Each sample has a patient ID (first column) and label (second column) with values \"M\" for malignant and \"B\" for benign. Write Python code to answer each of the following questions. For any question which asks you to modify the dataset, make sure to use the modified dataset for all subsequent questions."
      ]
    },
    {
      "cell_type": "code",
      "source": [
        "# Imports for the remainder of the file\n",
        "import pandas as pd\n",
        "import numpy as np\n",
        "import matplotlib.pyplot as plt\n",
        "import sklearn\n",
        "from google.colab import drive\n",
        "\n",
        "# Feature selection libraries\n",
        "from sklearn.preprocessing import StandardScaler\n",
        "from sklearn.model_selection import train_test_split\n",
        "from sklearn.feature_selection import SelectKBest, f_classif\n",
        "\n",
        "# Mount csv file from drive\n",
        "drive.mount(\"/content/drive\")"
      ],
      "metadata": {
        "colab": {
          "base_uri": "https://localhost:8080/"
        },
        "id": "mVEeDimyjxYH",
        "outputId": "920ae11c-1d21-4c86-eeed-5d3928685556",
        "collapsed": true
      },
      "id": "mVEeDimyjxYH",
      "execution_count": 2,
      "outputs": [
        {
          "output_type": "stream",
          "name": "stdout",
          "text": [
            "Mounted at /content/drive\n"
          ]
        }
      ]
    },
    {
      "cell_type": "markdown",
      "id": "3116de6d-ebc6-48b1-8c96-61e5ff3e7e1c",
      "metadata": {
        "id": "3116de6d-ebc6-48b1-8c96-61e5ff3e7e1c"
      },
      "source": [
        "#### 0. **(2 points)** Load the dataset and print the top 5 rows."
      ]
    },
    {
      "cell_type": "code",
      "source": [
        "# Read csv file and print head\n",
        "df = pd.read_csv(\"/content/drive/My Drive/colab_data/breast_cancer_csci4521.csv\", header = None)\n",
        "df.head(5)"
      ],
      "metadata": {
        "colab": {
          "base_uri": "https://localhost:8080/",
          "height": 255
        },
        "id": "w_5xGFNhjYDM",
        "outputId": "41cd2f5a-0570-44d8-ae32-f6bbf2f439ed",
        "collapsed": true
      },
      "id": "w_5xGFNhjYDM",
      "execution_count": 3,
      "outputs": [
        {
          "output_type": "execute_result",
          "data": {
            "text/plain": [
              "         0  1      2      3       4       5        6        7       8   \\\n",
              "0    842302  M  17.99  10.38  122.80  1001.0  0.11840  0.27760     NaN   \n",
              "1    842517  M  20.57  17.77  132.90  1326.0  0.08474  0.07864  0.0869   \n",
              "2  84300903  M  19.69  21.25  130.00  1203.0  0.10960  0.15990  0.1974   \n",
              "3  84348301  M  11.42  20.38   77.58   386.1  0.14250  0.28390  0.2414   \n",
              "4  84358402  M  20.29    NaN  135.10  1297.0      NaN  0.13280  0.1980   \n",
              "\n",
              "        9   ...     22     23      24      25      26      27      28      29  \\\n",
              "0  0.14710  ...  25.38  17.33  184.60  2019.0  0.1622  0.6656  0.7119  0.2654   \n",
              "1  0.07017  ...  24.99  23.41  158.80  1956.0  0.1238  0.1866  0.2416  0.1860   \n",
              "2  0.12790  ...  23.57  25.53  152.50  1709.0  0.1444  0.4245  0.4504  0.2430   \n",
              "3  0.10520  ...  14.91  26.50   98.87   567.7  0.2098  0.8663  0.6869     NaN   \n",
              "4  0.10430  ...  22.54  16.67  152.20  1575.0  0.1374  0.2050  0.4000     NaN   \n",
              "\n",
              "       30       31  \n",
              "0  0.4601  0.11890  \n",
              "1  0.2750  0.08902  \n",
              "2  0.3613  0.08758  \n",
              "3  0.6638  0.17300  \n",
              "4  0.2364  0.07678  \n",
              "\n",
              "[5 rows x 32 columns]"
            ],
            "text/html": [
              "\n",
              "  <div id=\"df-3bd9ace8-fff2-4d57-9e64-2a6f942b071d\" class=\"colab-df-container\">\n",
              "    <div>\n",
              "<style scoped>\n",
              "    .dataframe tbody tr th:only-of-type {\n",
              "        vertical-align: middle;\n",
              "    }\n",
              "\n",
              "    .dataframe tbody tr th {\n",
              "        vertical-align: top;\n",
              "    }\n",
              "\n",
              "    .dataframe thead th {\n",
              "        text-align: right;\n",
              "    }\n",
              "</style>\n",
              "<table border=\"1\" class=\"dataframe\">\n",
              "  <thead>\n",
              "    <tr style=\"text-align: right;\">\n",
              "      <th></th>\n",
              "      <th>0</th>\n",
              "      <th>1</th>\n",
              "      <th>2</th>\n",
              "      <th>3</th>\n",
              "      <th>4</th>\n",
              "      <th>5</th>\n",
              "      <th>6</th>\n",
              "      <th>7</th>\n",
              "      <th>8</th>\n",
              "      <th>9</th>\n",
              "      <th>...</th>\n",
              "      <th>22</th>\n",
              "      <th>23</th>\n",
              "      <th>24</th>\n",
              "      <th>25</th>\n",
              "      <th>26</th>\n",
              "      <th>27</th>\n",
              "      <th>28</th>\n",
              "      <th>29</th>\n",
              "      <th>30</th>\n",
              "      <th>31</th>\n",
              "    </tr>\n",
              "  </thead>\n",
              "  <tbody>\n",
              "    <tr>\n",
              "      <th>0</th>\n",
              "      <td>842302</td>\n",
              "      <td>M</td>\n",
              "      <td>17.99</td>\n",
              "      <td>10.38</td>\n",
              "      <td>122.80</td>\n",
              "      <td>1001.0</td>\n",
              "      <td>0.11840</td>\n",
              "      <td>0.27760</td>\n",
              "      <td>NaN</td>\n",
              "      <td>0.14710</td>\n",
              "      <td>...</td>\n",
              "      <td>25.38</td>\n",
              "      <td>17.33</td>\n",
              "      <td>184.60</td>\n",
              "      <td>2019.0</td>\n",
              "      <td>0.1622</td>\n",
              "      <td>0.6656</td>\n",
              "      <td>0.7119</td>\n",
              "      <td>0.2654</td>\n",
              "      <td>0.4601</td>\n",
              "      <td>0.11890</td>\n",
              "    </tr>\n",
              "    <tr>\n",
              "      <th>1</th>\n",
              "      <td>842517</td>\n",
              "      <td>M</td>\n",
              "      <td>20.57</td>\n",
              "      <td>17.77</td>\n",
              "      <td>132.90</td>\n",
              "      <td>1326.0</td>\n",
              "      <td>0.08474</td>\n",
              "      <td>0.07864</td>\n",
              "      <td>0.0869</td>\n",
              "      <td>0.07017</td>\n",
              "      <td>...</td>\n",
              "      <td>24.99</td>\n",
              "      <td>23.41</td>\n",
              "      <td>158.80</td>\n",
              "      <td>1956.0</td>\n",
              "      <td>0.1238</td>\n",
              "      <td>0.1866</td>\n",
              "      <td>0.2416</td>\n",
              "      <td>0.1860</td>\n",
              "      <td>0.2750</td>\n",
              "      <td>0.08902</td>\n",
              "    </tr>\n",
              "    <tr>\n",
              "      <th>2</th>\n",
              "      <td>84300903</td>\n",
              "      <td>M</td>\n",
              "      <td>19.69</td>\n",
              "      <td>21.25</td>\n",
              "      <td>130.00</td>\n",
              "      <td>1203.0</td>\n",
              "      <td>0.10960</td>\n",
              "      <td>0.15990</td>\n",
              "      <td>0.1974</td>\n",
              "      <td>0.12790</td>\n",
              "      <td>...</td>\n",
              "      <td>23.57</td>\n",
              "      <td>25.53</td>\n",
              "      <td>152.50</td>\n",
              "      <td>1709.0</td>\n",
              "      <td>0.1444</td>\n",
              "      <td>0.4245</td>\n",
              "      <td>0.4504</td>\n",
              "      <td>0.2430</td>\n",
              "      <td>0.3613</td>\n",
              "      <td>0.08758</td>\n",
              "    </tr>\n",
              "    <tr>\n",
              "      <th>3</th>\n",
              "      <td>84348301</td>\n",
              "      <td>M</td>\n",
              "      <td>11.42</td>\n",
              "      <td>20.38</td>\n",
              "      <td>77.58</td>\n",
              "      <td>386.1</td>\n",
              "      <td>0.14250</td>\n",
              "      <td>0.28390</td>\n",
              "      <td>0.2414</td>\n",
              "      <td>0.10520</td>\n",
              "      <td>...</td>\n",
              "      <td>14.91</td>\n",
              "      <td>26.50</td>\n",
              "      <td>98.87</td>\n",
              "      <td>567.7</td>\n",
              "      <td>0.2098</td>\n",
              "      <td>0.8663</td>\n",
              "      <td>0.6869</td>\n",
              "      <td>NaN</td>\n",
              "      <td>0.6638</td>\n",
              "      <td>0.17300</td>\n",
              "    </tr>\n",
              "    <tr>\n",
              "      <th>4</th>\n",
              "      <td>84358402</td>\n",
              "      <td>M</td>\n",
              "      <td>20.29</td>\n",
              "      <td>NaN</td>\n",
              "      <td>135.10</td>\n",
              "      <td>1297.0</td>\n",
              "      <td>NaN</td>\n",
              "      <td>0.13280</td>\n",
              "      <td>0.1980</td>\n",
              "      <td>0.10430</td>\n",
              "      <td>...</td>\n",
              "      <td>22.54</td>\n",
              "      <td>16.67</td>\n",
              "      <td>152.20</td>\n",
              "      <td>1575.0</td>\n",
              "      <td>0.1374</td>\n",
              "      <td>0.2050</td>\n",
              "      <td>0.4000</td>\n",
              "      <td>NaN</td>\n",
              "      <td>0.2364</td>\n",
              "      <td>0.07678</td>\n",
              "    </tr>\n",
              "  </tbody>\n",
              "</table>\n",
              "<p>5 rows × 32 columns</p>\n",
              "</div>\n",
              "    <div class=\"colab-df-buttons\">\n",
              "\n",
              "  <div class=\"colab-df-container\">\n",
              "    <button class=\"colab-df-convert\" onclick=\"convertToInteractive('df-3bd9ace8-fff2-4d57-9e64-2a6f942b071d')\"\n",
              "            title=\"Convert this dataframe to an interactive table.\"\n",
              "            style=\"display:none;\">\n",
              "\n",
              "  <svg xmlns=\"http://www.w3.org/2000/svg\" height=\"24px\" viewBox=\"0 -960 960 960\">\n",
              "    <path d=\"M120-120v-720h720v720H120Zm60-500h600v-160H180v160Zm220 220h160v-160H400v160Zm0 220h160v-160H400v160ZM180-400h160v-160H180v160Zm440 0h160v-160H620v160ZM180-180h160v-160H180v160Zm440 0h160v-160H620v160Z\"/>\n",
              "  </svg>\n",
              "    </button>\n",
              "\n",
              "  <style>\n",
              "    .colab-df-container {\n",
              "      display:flex;\n",
              "      gap: 12px;\n",
              "    }\n",
              "\n",
              "    .colab-df-convert {\n",
              "      background-color: #E8F0FE;\n",
              "      border: none;\n",
              "      border-radius: 50%;\n",
              "      cursor: pointer;\n",
              "      display: none;\n",
              "      fill: #1967D2;\n",
              "      height: 32px;\n",
              "      padding: 0 0 0 0;\n",
              "      width: 32px;\n",
              "    }\n",
              "\n",
              "    .colab-df-convert:hover {\n",
              "      background-color: #E2EBFA;\n",
              "      box-shadow: 0px 1px 2px rgba(60, 64, 67, 0.3), 0px 1px 3px 1px rgba(60, 64, 67, 0.15);\n",
              "      fill: #174EA6;\n",
              "    }\n",
              "\n",
              "    .colab-df-buttons div {\n",
              "      margin-bottom: 4px;\n",
              "    }\n",
              "\n",
              "    [theme=dark] .colab-df-convert {\n",
              "      background-color: #3B4455;\n",
              "      fill: #D2E3FC;\n",
              "    }\n",
              "\n",
              "    [theme=dark] .colab-df-convert:hover {\n",
              "      background-color: #434B5C;\n",
              "      box-shadow: 0px 1px 3px 1px rgba(0, 0, 0, 0.15);\n",
              "      filter: drop-shadow(0px 1px 2px rgba(0, 0, 0, 0.3));\n",
              "      fill: #FFFFFF;\n",
              "    }\n",
              "  </style>\n",
              "\n",
              "    <script>\n",
              "      const buttonEl =\n",
              "        document.querySelector('#df-3bd9ace8-fff2-4d57-9e64-2a6f942b071d button.colab-df-convert');\n",
              "      buttonEl.style.display =\n",
              "        google.colab.kernel.accessAllowed ? 'block' : 'none';\n",
              "\n",
              "      async function convertToInteractive(key) {\n",
              "        const element = document.querySelector('#df-3bd9ace8-fff2-4d57-9e64-2a6f942b071d');\n",
              "        const dataTable =\n",
              "          await google.colab.kernel.invokeFunction('convertToInteractive',\n",
              "                                                    [key], {});\n",
              "        if (!dataTable) return;\n",
              "\n",
              "        const docLinkHtml = 'Like what you see? Visit the ' +\n",
              "          '<a target=\"_blank\" href=https://colab.research.google.com/notebooks/data_table.ipynb>data table notebook</a>'\n",
              "          + ' to learn more about interactive tables.';\n",
              "        element.innerHTML = '';\n",
              "        dataTable['output_type'] = 'display_data';\n",
              "        await google.colab.output.renderOutput(dataTable, element);\n",
              "        const docLink = document.createElement('div');\n",
              "        docLink.innerHTML = docLinkHtml;\n",
              "        element.appendChild(docLink);\n",
              "      }\n",
              "    </script>\n",
              "  </div>\n",
              "\n",
              "\n",
              "<div id=\"df-c7e52a7a-766e-4c2b-bc9d-8b531865db1e\">\n",
              "  <button class=\"colab-df-quickchart\" onclick=\"quickchart('df-c7e52a7a-766e-4c2b-bc9d-8b531865db1e')\"\n",
              "            title=\"Suggest charts\"\n",
              "            style=\"display:none;\">\n",
              "\n",
              "<svg xmlns=\"http://www.w3.org/2000/svg\" height=\"24px\"viewBox=\"0 0 24 24\"\n",
              "     width=\"24px\">\n",
              "    <g>\n",
              "        <path d=\"M19 3H5c-1.1 0-2 .9-2 2v14c0 1.1.9 2 2 2h14c1.1 0 2-.9 2-2V5c0-1.1-.9-2-2-2zM9 17H7v-7h2v7zm4 0h-2V7h2v10zm4 0h-2v-4h2v4z\"/>\n",
              "    </g>\n",
              "</svg>\n",
              "  </button>\n",
              "\n",
              "<style>\n",
              "  .colab-df-quickchart {\n",
              "      --bg-color: #E8F0FE;\n",
              "      --fill-color: #1967D2;\n",
              "      --hover-bg-color: #E2EBFA;\n",
              "      --hover-fill-color: #174EA6;\n",
              "      --disabled-fill-color: #AAA;\n",
              "      --disabled-bg-color: #DDD;\n",
              "  }\n",
              "\n",
              "  [theme=dark] .colab-df-quickchart {\n",
              "      --bg-color: #3B4455;\n",
              "      --fill-color: #D2E3FC;\n",
              "      --hover-bg-color: #434B5C;\n",
              "      --hover-fill-color: #FFFFFF;\n",
              "      --disabled-bg-color: #3B4455;\n",
              "      --disabled-fill-color: #666;\n",
              "  }\n",
              "\n",
              "  .colab-df-quickchart {\n",
              "    background-color: var(--bg-color);\n",
              "    border: none;\n",
              "    border-radius: 50%;\n",
              "    cursor: pointer;\n",
              "    display: none;\n",
              "    fill: var(--fill-color);\n",
              "    height: 32px;\n",
              "    padding: 0;\n",
              "    width: 32px;\n",
              "  }\n",
              "\n",
              "  .colab-df-quickchart:hover {\n",
              "    background-color: var(--hover-bg-color);\n",
              "    box-shadow: 0 1px 2px rgba(60, 64, 67, 0.3), 0 1px 3px 1px rgba(60, 64, 67, 0.15);\n",
              "    fill: var(--button-hover-fill-color);\n",
              "  }\n",
              "\n",
              "  .colab-df-quickchart-complete:disabled,\n",
              "  .colab-df-quickchart-complete:disabled:hover {\n",
              "    background-color: var(--disabled-bg-color);\n",
              "    fill: var(--disabled-fill-color);\n",
              "    box-shadow: none;\n",
              "  }\n",
              "\n",
              "  .colab-df-spinner {\n",
              "    border: 2px solid var(--fill-color);\n",
              "    border-color: transparent;\n",
              "    border-bottom-color: var(--fill-color);\n",
              "    animation:\n",
              "      spin 1s steps(1) infinite;\n",
              "  }\n",
              "\n",
              "  @keyframes spin {\n",
              "    0% {\n",
              "      border-color: transparent;\n",
              "      border-bottom-color: var(--fill-color);\n",
              "      border-left-color: var(--fill-color);\n",
              "    }\n",
              "    20% {\n",
              "      border-color: transparent;\n",
              "      border-left-color: var(--fill-color);\n",
              "      border-top-color: var(--fill-color);\n",
              "    }\n",
              "    30% {\n",
              "      border-color: transparent;\n",
              "      border-left-color: var(--fill-color);\n",
              "      border-top-color: var(--fill-color);\n",
              "      border-right-color: var(--fill-color);\n",
              "    }\n",
              "    40% {\n",
              "      border-color: transparent;\n",
              "      border-right-color: var(--fill-color);\n",
              "      border-top-color: var(--fill-color);\n",
              "    }\n",
              "    60% {\n",
              "      border-color: transparent;\n",
              "      border-right-color: var(--fill-color);\n",
              "    }\n",
              "    80% {\n",
              "      border-color: transparent;\n",
              "      border-right-color: var(--fill-color);\n",
              "      border-bottom-color: var(--fill-color);\n",
              "    }\n",
              "    90% {\n",
              "      border-color: transparent;\n",
              "      border-bottom-color: var(--fill-color);\n",
              "    }\n",
              "  }\n",
              "</style>\n",
              "\n",
              "  <script>\n",
              "    async function quickchart(key) {\n",
              "      const quickchartButtonEl =\n",
              "        document.querySelector('#' + key + ' button');\n",
              "      quickchartButtonEl.disabled = true;  // To prevent multiple clicks.\n",
              "      quickchartButtonEl.classList.add('colab-df-spinner');\n",
              "      try {\n",
              "        const charts = await google.colab.kernel.invokeFunction(\n",
              "            'suggestCharts', [key], {});\n",
              "      } catch (error) {\n",
              "        console.error('Error during call to suggestCharts:', error);\n",
              "      }\n",
              "      quickchartButtonEl.classList.remove('colab-df-spinner');\n",
              "      quickchartButtonEl.classList.add('colab-df-quickchart-complete');\n",
              "    }\n",
              "    (() => {\n",
              "      let quickchartButtonEl =\n",
              "        document.querySelector('#df-c7e52a7a-766e-4c2b-bc9d-8b531865db1e button');\n",
              "      quickchartButtonEl.style.display =\n",
              "        google.colab.kernel.accessAllowed ? 'block' : 'none';\n",
              "    })();\n",
              "  </script>\n",
              "</div>\n",
              "\n",
              "    </div>\n",
              "  </div>\n"
            ],
            "application/vnd.google.colaboratory.intrinsic+json": {
              "type": "dataframe",
              "variable_name": "df"
            }
          },
          "metadata": {},
          "execution_count": 3
        }
      ]
    },
    {
      "cell_type": "markdown",
      "id": "342d0535-dab3-4849-95a5-30cfbc74903a",
      "metadata": {
        "id": "342d0535-dab3-4849-95a5-30cfbc74903a"
      },
      "source": [
        "#### 1. **(3 points)** Count and print the number of samples and features in the dataset."
      ]
    },
    {
      "cell_type": "code",
      "source": [
        "# Get shape of the dataframe\n",
        "dim = df.shape\n",
        "\n",
        "# Number of Samples\n",
        "print(\"Number of Samples : \", dim[0])\n",
        "\n",
        "# Number of features excluding the label, and patient id\n",
        "print(\"Number of Features : \", dim[1]-2)\n",
        "\n",
        "# Remove and store lables to avoid complexity in future cells\n",
        "labels = df[1]\n",
        "df.drop([df.columns[1]], axis=1 , inplace=True)"
      ],
      "metadata": {
        "colab": {
          "base_uri": "https://localhost:8080/"
        },
        "id": "7XmMKXKfmmw1",
        "outputId": "9d6228dc-2112-4e35-ea35-eeeda2aafac7",
        "collapsed": true
      },
      "id": "7XmMKXKfmmw1",
      "execution_count": 4,
      "outputs": [
        {
          "output_type": "stream",
          "name": "stdout",
          "text": [
            "Number of Samples :  569\n",
            "Number of Features :  30\n"
          ]
        }
      ]
    },
    {
      "cell_type": "markdown",
      "id": "85a64a70-ec6a-4eef-b46b-d30d97f60a23",
      "metadata": {
        "id": "85a64a70-ec6a-4eef-b46b-d30d97f60a23"
      },
      "source": [
        "#### 2. **(10 points)** What are the means, standard deviations, minimum and maximum values of each of the features? Note, only print out these values, nothing else (i.e. do not print the 25%, 50%, 75% percentiles)."
      ]
    },
    {
      "cell_type": "code",
      "source": [
        "# Array to store results\n",
        "results = []\n",
        "\n",
        "# Exclude label and feature patient ID, and calculate relevant statistics\n",
        "for feature in df.columns:\n",
        "  feature_mean = df[feature].mean()\n",
        "  feature_std = df[feature].std()\n",
        "  feature_min = df[feature].min()\n",
        "  feature_max = df[feature].max()\n",
        "\n",
        "  # Add data to results\n",
        "  results.append([feature, feature_mean, feature_std, feature_min, feature_max])\n",
        "\n",
        "# Add to dataframe for better printing\n",
        "results_df_for_printing = pd.DataFrame(results, columns=[\"Feature\", \"Mean\", \"Standard Deviation\", \"Min\", \"Max\"])\n",
        "print(results_df_for_printing)"
      ],
      "metadata": {
        "colab": {
          "base_uri": "https://localhost:8080/"
        },
        "id": "-mrE4l6xoB2_",
        "outputId": "5f857306-744c-4ec9-b14c-d9023a8cee83",
        "collapsed": true
      },
      "id": "-mrE4l6xoB2_",
      "execution_count": 5,
      "outputs": [
        {
          "output_type": "stream",
          "name": "stdout",
          "text": [
            "    Feature          Mean  Standard Deviation          Min           Max\n",
            "0         0  3.037183e+07        1.250206e+08  8670.000000  9.113205e+08\n",
            "1         2  1.415826e+01        3.607291e+00     6.981000  2.811000e+01\n",
            "2         3  1.928391e+01        4.294333e+00     9.710000  3.928000e+01\n",
            "3         4  9.196903e+01        2.429898e+01    43.790000  1.885000e+02\n",
            "4         5  6.548891e+02        3.519141e+02   143.500000  2.501000e+03\n",
            "5         6  9.656492e-02        1.402176e-02     0.052630  1.634000e-01\n",
            "6         7  1.043410e-01        5.281276e-02     0.019380  3.454000e-01\n",
            "7         8  8.851011e-02        7.929406e-02     0.000000  4.268000e-01\n",
            "8         9  4.891915e-02        3.880284e-02     0.000000  2.012000e-01\n",
            "9        10  1.811619e-01        2.741428e-02     0.106000  3.040000e-01\n",
            "10       11  6.279761e-02        7.060363e-03     0.049960  9.744000e-02\n",
            "11       12  4.034193e-01        2.752475e-01     0.111500  2.873000e+00\n",
            "12       13  1.201561e+00        5.192831e-01     0.360200  3.896000e+00\n",
            "13       14  2.891248e+00        2.056570e+00     0.757000  2.198000e+01\n",
            "14       15  4.033708e+01        4.549101e+01     6.802000  5.422000e+02\n",
            "15       16  1.000000e+00        0.000000e+00     1.000000  1.000000e+00\n",
            "16       17  2.547814e-02        1.790818e-02     0.002252  1.354000e-01\n",
            "17       18  3.189372e-02        3.018606e-02     0.000000  3.960000e-01\n",
            "18       19  1.176372e-02        6.281560e-03     0.000000  5.279000e-02\n",
            "19       20  2.053745e-02        8.293979e-03     0.007882  7.895000e-02\n",
            "20       21  3.794904e-03        2.646071e-03     0.000895  2.984000e-02\n",
            "21       22  1.618758e+01        4.754326e+00     7.930000  3.604000e+01\n",
            "22       23  2.567722e+01        6.146258e+00    12.020000  4.954000e+01\n",
            "23       24  1.070468e+02        3.369202e+01    50.410000  2.512000e+02\n",
            "24       25  8.805831e+02        5.693570e+02   185.200000  4.254000e+03\n",
            "25       26  1.323686e-01        2.283243e-02     0.071170  2.226000e-01\n",
            "26       27  2.534077e-01        1.569515e-01     0.027290  1.058000e+00\n",
            "27       28  2.721885e-01        2.086243e-01     0.000000  1.252000e+00\n",
            "28       29  1.148978e-01        6.547114e-02     0.000000  2.903000e-01\n",
            "29       30  2.904153e-01        6.200836e-02     0.156500  6.638000e-01\n",
            "30       31  8.394582e-02        1.806127e-02     0.055040  2.075000e-01\n"
          ]
        }
      ]
    },
    {
      "cell_type": "markdown",
      "id": "295b7c1d-e766-4fc1-8e27-383c45b400be",
      "metadata": {
        "id": "295b7c1d-e766-4fc1-8e27-383c45b400be"
      },
      "source": [
        "#### 3. **(10 points)** Which features have missing values? For each feature, how are the missing values denoted (i.e., what are the values)?"
      ]
    },
    {
      "cell_type": "code",
      "source": [
        "# Identify columns with missing values (which can be NaN, None)\n",
        "missing_cols = df.columns[df.isnull().sum() > 0]\n",
        "missing_representation = {}\n",
        "\n",
        "for col in missing_cols:\n",
        "    unique_values = df[col].unique()\n",
        "    missing_values = [val for val in unique_values if pd.isna(val)]\n",
        "\n",
        "    # Store the filtered missing values for the column\n",
        "    missing_representation[col] = missing_values\n",
        "\n",
        "# Print answer\n",
        "for col, values in missing_representation.items():\n",
        "    print(f\"Column '{col}' has missing values represented as: {values}\")"
      ],
      "metadata": {
        "colab": {
          "base_uri": "https://localhost:8080/"
        },
        "id": "A1_av7UXrAlM",
        "outputId": "273dedba-695a-499d-8f3e-b1b96cae66e0",
        "collapsed": true
      },
      "id": "A1_av7UXrAlM",
      "execution_count": 6,
      "outputs": [
        {
          "output_type": "stream",
          "name": "stdout",
          "text": [
            "Column '2' has missing values represented as: [nan]\n",
            "Column '3' has missing values represented as: [nan]\n",
            "Column '6' has missing values represented as: [nan]\n",
            "Column '8' has missing values represented as: [nan]\n",
            "Column '12' has missing values represented as: [nan]\n",
            "Column '13' has missing values represented as: [nan]\n",
            "Column '14' has missing values represented as: [nan]\n",
            "Column '16' has missing values represented as: [nan]\n",
            "Column '19' has missing values represented as: [nan]\n",
            "Column '20' has missing values represented as: [nan]\n",
            "Column '22' has missing values represented as: [nan]\n",
            "Column '24' has missing values represented as: [nan]\n",
            "Column '27' has missing values represented as: [nan]\n",
            "Column '29' has missing values represented as: [nan]\n",
            "Column '30' has missing values represented as: [nan]\n"
          ]
        }
      ]
    },
    {
      "cell_type": "markdown",
      "id": "339c1157-2213-4a55-8f9e-bd385d228121",
      "metadata": {
        "id": "339c1157-2213-4a55-8f9e-bd385d228121"
      },
      "source": [
        "\n",
        "\n",
        "#### 4. **(5 points)** Replace all missing values with the median value of each feature and print the top 10 rows of the dataframe before and after the replacement."
      ]
    },
    {
      "cell_type": "code",
      "source": [
        "# Print dataset before replacement with median\n",
        "print(\"Before |\")\n",
        "print(df.head(10))"
      ],
      "metadata": {
        "colab": {
          "base_uri": "https://localhost:8080/"
        },
        "id": "kb0wu3rHtCHL",
        "outputId": "a0ba515f-89b6-4fac-caec-4c8d2cd4a3c7"
      },
      "id": "kb0wu3rHtCHL",
      "execution_count": 7,
      "outputs": [
        {
          "output_type": "stream",
          "name": "stdout",
          "text": [
            "Before |\n",
            "         0      2      3       4       5        6        7        8        9   \\\n",
            "0    842302  17.99  10.38  122.80  1001.0  0.11840  0.27760      NaN  0.14710   \n",
            "1    842517  20.57  17.77  132.90  1326.0  0.08474  0.07864  0.08690  0.07017   \n",
            "2  84300903  19.69  21.25  130.00  1203.0  0.10960  0.15990  0.19740  0.12790   \n",
            "3  84348301  11.42  20.38   77.58   386.1  0.14250  0.28390  0.24140  0.10520   \n",
            "4  84358402  20.29    NaN  135.10  1297.0      NaN  0.13280  0.19800  0.10430   \n",
            "5    843786  12.45  15.70   82.57   477.1  0.12780  0.17000  0.15780  0.08089   \n",
            "6    844359  18.25  19.98  119.60  1040.0  0.09463  0.10900  0.11270  0.07400   \n",
            "7  84458202  13.71  20.83   90.20   577.9  0.11890  0.16450  0.09366  0.05985   \n",
            "8    844981  13.00  21.82   87.50   519.8      NaN  0.19320      NaN  0.09353   \n",
            "9  84501001  12.46  24.04   83.97   475.9  0.11860  0.23960      NaN  0.08543   \n",
            "\n",
            "       10  ...     22     23      24      25      26      27      28      29  \\\n",
            "0  0.2419  ...  25.38  17.33  184.60  2019.0  0.1622  0.6656  0.7119  0.2654   \n",
            "1  0.1812  ...  24.99  23.41  158.80  1956.0  0.1238  0.1866  0.2416  0.1860   \n",
            "2  0.2069  ...  23.57  25.53  152.50  1709.0  0.1444  0.4245  0.4504  0.2430   \n",
            "3  0.2597  ...  14.91  26.50   98.87   567.7  0.2098  0.8663  0.6869     NaN   \n",
            "4  0.1809  ...  22.54  16.67  152.20  1575.0  0.1374  0.2050  0.4000     NaN   \n",
            "5  0.2087  ...  15.47  23.75  103.40   741.6  0.1791  0.5249  0.5355  0.1741   \n",
            "6  0.1794  ...  22.88  27.66  153.20  1606.0  0.1442  0.2576  0.3784  0.1932   \n",
            "7  0.2196  ...  17.06  28.14  110.60   897.0  0.1654  0.3682  0.2678  0.1556   \n",
            "8  0.2350  ...  15.49  30.73  106.20   739.3  0.1703  0.5401  0.5390  0.2060   \n",
            "9  0.2030  ...  15.09  40.68   97.65   711.4  0.1853  1.0580  1.1050  0.2210   \n",
            "\n",
            "       30       31  \n",
            "0  0.4601  0.11890  \n",
            "1  0.2750  0.08902  \n",
            "2  0.3613  0.08758  \n",
            "3  0.6638  0.17300  \n",
            "4  0.2364  0.07678  \n",
            "5  0.3985  0.12440  \n",
            "6  0.3063  0.08368  \n",
            "7  0.3196  0.11510  \n",
            "8  0.4378  0.10720  \n",
            "9  0.4366  0.20750  \n",
            "\n",
            "[10 rows x 31 columns]\n"
          ]
        }
      ]
    },
    {
      "cell_type": "code",
      "source": [
        "# Find and replace all missing values in any columns with the median of the column\n",
        "missing_cols = df.columns[(df.isna().any())]\n",
        "df.fillna(df.median(), inplace=True)\n",
        "\n",
        "# Print all values after replacement\n",
        "print(\"After |\")\n",
        "print(df.head(10))"
      ],
      "metadata": {
        "colab": {
          "base_uri": "https://localhost:8080/"
        },
        "id": "wUYiEqbclG_a",
        "outputId": "b874ef36-6a65-4ed4-9e6f-975101431050"
      },
      "id": "wUYiEqbclG_a",
      "execution_count": 8,
      "outputs": [
        {
          "output_type": "stream",
          "name": "stdout",
          "text": [
            "After |\n",
            "         0      2      3       4       5         6        7        8   \\\n",
            "0    842302  17.99  10.38  122.80  1001.0  0.118400  0.27760  0.06168   \n",
            "1    842517  20.57  17.77  132.90  1326.0  0.084740  0.07864  0.08690   \n",
            "2  84300903  19.69  21.25  130.00  1203.0  0.109600  0.15990  0.19740   \n",
            "3  84348301  11.42  20.38   77.58   386.1  0.142500  0.28390  0.24140   \n",
            "4  84358402  20.29  18.75  135.10  1297.0  0.095955  0.13280  0.19800   \n",
            "5    843786  12.45  15.70   82.57   477.1  0.127800  0.17000  0.15780   \n",
            "6    844359  18.25  19.98  119.60  1040.0  0.094630  0.10900  0.11270   \n",
            "7  84458202  13.71  20.83   90.20   577.9  0.118900  0.16450  0.09366   \n",
            "8    844981  13.00  21.82   87.50   519.8  0.095955  0.19320  0.06168   \n",
            "9  84501001  12.46  24.04   83.97   475.9  0.118600  0.23960  0.06168   \n",
            "\n",
            "        9       10  ...     22     23      24      25      26      27      28  \\\n",
            "0  0.14710  0.2419  ...  25.38  17.33  184.60  2019.0  0.1622  0.6656  0.7119   \n",
            "1  0.07017  0.1812  ...  24.99  23.41  158.80  1956.0  0.1238  0.1866  0.2416   \n",
            "2  0.12790  0.2069  ...  23.57  25.53  152.50  1709.0  0.1444  0.4245  0.4504   \n",
            "3  0.10520  0.2597  ...  14.91  26.50   98.87   567.7  0.2098  0.8663  0.6869   \n",
            "4  0.10430  0.1809  ...  22.54  16.67  152.20  1575.0  0.1374  0.2050  0.4000   \n",
            "5  0.08089  0.2087  ...  15.47  23.75  103.40   741.6  0.1791  0.5249  0.5355   \n",
            "6  0.07400  0.1794  ...  22.88  27.66  153.20  1606.0  0.1442  0.2576  0.3784   \n",
            "7  0.05985  0.2196  ...  17.06  28.14  110.60   897.0  0.1654  0.3682  0.2678   \n",
            "8  0.09353  0.2350  ...  15.49  30.73  106.20   739.3  0.1703  0.5401  0.5390   \n",
            "9  0.08543  0.2030  ...  15.09  40.68   97.65   711.4  0.1853  1.0580  1.1050   \n",
            "\n",
            "       29      30       31  \n",
            "0  0.2654  0.4601  0.11890  \n",
            "1  0.1860  0.2750  0.08902  \n",
            "2  0.2430  0.3613  0.08758  \n",
            "3  0.1017  0.6638  0.17300  \n",
            "4  0.1017  0.2364  0.07678  \n",
            "5  0.1741  0.3985  0.12440  \n",
            "6  0.1932  0.3063  0.08368  \n",
            "7  0.1556  0.3196  0.11510  \n",
            "8  0.2060  0.4378  0.10720  \n",
            "9  0.2210  0.4366  0.20750  \n",
            "\n",
            "[10 rows x 31 columns]\n"
          ]
        }
      ]
    },
    {
      "cell_type": "markdown",
      "id": "d89dd6c0-f751-4bd9-9f95-595f5e0253ab",
      "metadata": {
        "id": "d89dd6c0-f751-4bd9-9f95-595f5e0253ab"
      },
      "source": [
        "#### 5. **(20 points)** Standardize all the features to have 0 mean and 1 standard deviation. Print out the top 10 rows of the dataframe before and after standardization. Remember, column 0 is the patient ID so do not standardize this but make sure it's not dropped. Plot a histogram of values after standardization for feature 10."
      ]
    },
    {
      "cell_type": "code",
      "source": [
        "# Print dataset before standardization\n",
        "print(\"Before |\")\n",
        "print(df.head(10))"
      ],
      "metadata": {
        "colab": {
          "base_uri": "https://localhost:8080/"
        },
        "id": "x_xFqhNvucZ6",
        "outputId": "988fcb95-4d18-42c6-eb14-33e1bc127b33"
      },
      "id": "x_xFqhNvucZ6",
      "execution_count": 9,
      "outputs": [
        {
          "output_type": "stream",
          "name": "stdout",
          "text": [
            "Before |\n",
            "         0      2      3       4       5         6        7        8   \\\n",
            "0    842302  17.99  10.38  122.80  1001.0  0.118400  0.27760  0.06168   \n",
            "1    842517  20.57  17.77  132.90  1326.0  0.084740  0.07864  0.08690   \n",
            "2  84300903  19.69  21.25  130.00  1203.0  0.109600  0.15990  0.19740   \n",
            "3  84348301  11.42  20.38   77.58   386.1  0.142500  0.28390  0.24140   \n",
            "4  84358402  20.29  18.75  135.10  1297.0  0.095955  0.13280  0.19800   \n",
            "5    843786  12.45  15.70   82.57   477.1  0.127800  0.17000  0.15780   \n",
            "6    844359  18.25  19.98  119.60  1040.0  0.094630  0.10900  0.11270   \n",
            "7  84458202  13.71  20.83   90.20   577.9  0.118900  0.16450  0.09366   \n",
            "8    844981  13.00  21.82   87.50   519.8  0.095955  0.19320  0.06168   \n",
            "9  84501001  12.46  24.04   83.97   475.9  0.118600  0.23960  0.06168   \n",
            "\n",
            "        9       10  ...     22     23      24      25      26      27      28  \\\n",
            "0  0.14710  0.2419  ...  25.38  17.33  184.60  2019.0  0.1622  0.6656  0.7119   \n",
            "1  0.07017  0.1812  ...  24.99  23.41  158.80  1956.0  0.1238  0.1866  0.2416   \n",
            "2  0.12790  0.2069  ...  23.57  25.53  152.50  1709.0  0.1444  0.4245  0.4504   \n",
            "3  0.10520  0.2597  ...  14.91  26.50   98.87   567.7  0.2098  0.8663  0.6869   \n",
            "4  0.10430  0.1809  ...  22.54  16.67  152.20  1575.0  0.1374  0.2050  0.4000   \n",
            "5  0.08089  0.2087  ...  15.47  23.75  103.40   741.6  0.1791  0.5249  0.5355   \n",
            "6  0.07400  0.1794  ...  22.88  27.66  153.20  1606.0  0.1442  0.2576  0.3784   \n",
            "7  0.05985  0.2196  ...  17.06  28.14  110.60   897.0  0.1654  0.3682  0.2678   \n",
            "8  0.09353  0.2350  ...  15.49  30.73  106.20   739.3  0.1703  0.5401  0.5390   \n",
            "9  0.08543  0.2030  ...  15.09  40.68   97.65   711.4  0.1853  1.0580  1.1050   \n",
            "\n",
            "       29      30       31  \n",
            "0  0.2654  0.4601  0.11890  \n",
            "1  0.1860  0.2750  0.08902  \n",
            "2  0.2430  0.3613  0.08758  \n",
            "3  0.1017  0.6638  0.17300  \n",
            "4  0.1017  0.2364  0.07678  \n",
            "5  0.1741  0.3985  0.12440  \n",
            "6  0.1932  0.3063  0.08368  \n",
            "7  0.1556  0.3196  0.11510  \n",
            "8  0.2060  0.4378  0.10720  \n",
            "9  0.2210  0.4366  0.20750  \n",
            "\n",
            "[10 rows x 31 columns]\n"
          ]
        }
      ]
    },
    {
      "cell_type": "code",
      "source": [
        "from sklearn.preprocessing import StandardScaler\n",
        "\n",
        "# Define standard scaler\n",
        "scaler = StandardScaler()\n",
        "\n",
        "# Define columns to standardize (exclude id, label)\n",
        "cols_in_range = range(2, 32)\n",
        "\n",
        "# Store id\n",
        "id = df[0]\n",
        "\n",
        "# Transform data\n",
        "scaled = scaler.fit_transform(df[cols_in_range])\n",
        "print(scaled.mean())\n",
        "print(scaled.std())\n",
        "\n",
        "# Store data in df after transformation to print\n",
        "df = pd.DataFrame(scaled, columns=df.columns[1:])\n",
        "print(\"After |\")\n",
        "print(df.head(10))\n",
        "\n",
        "# required for indexing later\n",
        "df.insert(0, 0, id)"
      ],
      "metadata": {
        "colab": {
          "base_uri": "https://localhost:8080/"
        },
        "id": "KtV51TaglXpr",
        "outputId": "487d6d70-4805-4059-891c-3ae95f82b60f"
      },
      "id": "KtV51TaglXpr",
      "execution_count": 10,
      "outputs": [
        {
          "output_type": "stream",
          "name": "stdout",
          "text": [
            "-2.476701392954069e-17\n",
            "0.983192080250175\n",
            "After |\n",
            "         2         3         4         5         6         7         8   \\\n",
            "0  1.202173 -2.254784  1.269934  0.984375  1.654470  3.283515 -0.312539   \n",
            "1  1.983101 -0.363846  1.685955  1.908708 -0.888374 -0.487072  0.027222   \n",
            "2  1.716738  0.526609  1.566503  1.558884  0.989674  1.052926  1.515870   \n",
            "3 -0.786469  0.303996 -0.592687 -0.764464  3.475104  3.402909  2.108634   \n",
            "4  1.898350 -0.113085  1.776573  1.826229 -0.041137  0.539340  1.523953   \n",
            "5 -0.474703 -0.893513 -0.387148 -0.505650  2.364593  1.244335  0.982382   \n",
            "6  1.280872  0.201644  1.138125  1.095295 -0.141234  0.088295  0.374798   \n",
            "7 -0.093320  0.419141 -0.072867 -0.218965  1.692243  1.140102  0.118293   \n",
            "8 -0.308226  0.672460 -0.184080 -0.384207 -0.041137  1.684010 -0.312539   \n",
            "9 -0.471676  1.240509 -0.329482 -0.509063  1.669579  2.563358 -0.312539   \n",
            "\n",
            "         9         10        11  ...        22        23        24        25  \\\n",
            "0  2.532475  2.217515  2.255747  ...  1.992524 -1.359293  2.462782  2.001237   \n",
            "1  0.548144  0.001392 -0.868652  ...  1.908540 -0.369203  1.654219  1.890489   \n",
            "2  2.037231  0.939685 -0.398008  ...  1.602754 -0.023974  1.456779  1.456285   \n",
            "3  1.451707  2.867383  4.910919  ... -0.262114  0.133984 -0.223965 -0.550021   \n",
            "4  1.428493 -0.009560 -0.562450  ...  1.380951 -1.466770  1.447377  1.220724   \n",
            "5  0.824656  1.005402  1.890005  ... -0.141522 -0.313836 -0.081997 -0.244320   \n",
            "6  0.646935 -0.064325 -0.762332  ...  1.454167  0.322883  1.478717  1.275220   \n",
            "7  0.281950  1.403355  1.660353  ...  0.200873  0.401048  0.143648  0.028859   \n",
            "8  1.150692  1.965600  1.572462  ... -0.137215  0.822813  0.005754 -0.248363   \n",
            "9  0.941760  0.797298  2.783096  ... -0.223352  2.443109 -0.262200 -0.297409   \n",
            "\n",
            "         26        27        28        29        30        31  \n",
            "0  1.307686  2.647038  2.109526  2.471938  2.792154  1.937015  \n",
            "1 -0.375612 -0.425209 -0.146749  1.181350 -0.248735  0.281190  \n",
            "2  0.527407  1.100652  0.854974  2.107843  1.169032  0.201391  \n",
            "3  3.394275  3.934303  1.989588 -0.188884  6.138611  4.935010  \n",
            "4  0.220556 -0.307194  0.613179 -0.188884 -0.882870 -0.397100  \n",
            "5  2.048513  1.744606  1.263243  0.987925  1.780167  2.241802  \n",
            "6  0.518640  0.030176  0.509552  1.298381  0.265472 -0.014730  \n",
            "7  1.447961  0.739551 -0.021054  0.687221  0.483970  1.726435  \n",
            "8  1.662757  1.842097  1.280035  1.506435  2.425802  1.288650  \n",
            "9  2.320295  5.163844  3.995433  1.750249  2.406088  6.846856  \n",
            "\n",
            "[10 rows x 30 columns]\n"
          ]
        }
      ]
    },
    {
      "cell_type": "code",
      "source": [
        "# Plot a histogram of values after standardization for feature 10\n",
        "plt.hist(df[10])\n",
        "plt.xlabel(\"Standardized Vals for Feature = 10\")\n",
        "plt.ylabel(\"Frequency\")\n",
        "plt.title(\"Histogram of Standardized Feature 10\")\n",
        "plt.show()"
      ],
      "metadata": {
        "colab": {
          "base_uri": "https://localhost:8080/",
          "height": 472
        },
        "id": "kNr7T1i7PoD3",
        "outputId": "072bf425-1188-42a7-b83d-1b8160bebbac"
      },
      "id": "kNr7T1i7PoD3",
      "execution_count": 11,
      "outputs": [
        {
          "output_type": "display_data",
          "data": {
            "text/plain": [
              "<Figure size 640x480 with 1 Axes>"
            ],
            "image/png": "[encoded data removed]"
          },
          "metadata": {}
        }
      ]
    },
    {
      "cell_type": "markdown",
      "id": "b91ff0f2-ff70-4f60-81b3-78e010c50823",
      "metadata": {
        "id": "b91ff0f2-ff70-4f60-81b3-78e010c50823"
      },
      "source": [
        "#### 6. **(6 points)** What features have variance $< 0.1$? Remove any such features from the dataset."
      ]
    },
    {
      "cell_type": "code",
      "source": [
        "columns = df.columns\n",
        "remove = [col for col in columns if df[col].var() < 0.1]\n",
        "df.drop(columns=remove, inplace=True)\n",
        "\n",
        "print(\"Feature removed \", remove)"
      ],
      "metadata": {
        "id": "dw0TimkVvyDw",
        "colab": {
          "base_uri": "https://localhost:8080/"
        },
        "outputId": "3031703b-fbac-4a08-d740-7cce108fcf90"
      },
      "id": "dw0TimkVvyDw",
      "execution_count": 12,
      "outputs": [
        {
          "output_type": "stream",
          "name": "stdout",
          "text": [
            "Feature removed  [16]\n"
          ]
        }
      ]
    },
    {
      "cell_type": "markdown",
      "id": "ba8e4766-4a4b-44f4-8d83-a32a82f879c0",
      "metadata": {
        "id": "ba8e4766-4a4b-44f4-8d83-a32a82f879c0"
      },
      "source": [
        "#### 7. **(2 points)** Which samples (as indicated by row number) are duplicate samples?\n"
      ]
    },
    {
      "cell_type": "code",
      "source": [
        "dups = df.duplicated()\n",
        "if dups.any():\n",
        "  print(\"Feature \", df[dups], \" is duplicated.\")\n",
        "else :\n",
        "  print(\"No duplicates detected\")\n"
      ],
      "metadata": {
        "id": "rlqdi2MLwJGR",
        "colab": {
          "base_uri": "https://localhost:8080/"
        },
        "outputId": "88d50cc3-4e50-4a81-efc5-829b8449c62a"
      },
      "id": "rlqdi2MLwJGR",
      "execution_count": 13,
      "outputs": [
        {
          "output_type": "stream",
          "name": "stdout",
          "text": [
            "No duplicates detected\n"
          ]
        }
      ]
    },
    {
      "cell_type": "markdown",
      "id": "226fd244-8264-4c83-abc6-876ed4bcbdd3",
      "metadata": {
        "id": "226fd244-8264-4c83-abc6-876ed4bcbdd3"
      },
      "source": [
        "#### 8. **(17 points)** Use the standard deviation method to remove outliers. Apply the method to each feature individually and choose the data points which are an outlier in any of the features to remove. You can choose the lower and upper thresholds. Explain how you decided on the thresholds and what were the outlier samples removed from the dataset. (Don't forget the labels and patient IDs!)\n"
      ]
    },
    {
      "cell_type": "markdown",
      "source": [
        "Based on the link [here](https://medium.com/analytics-vidhya/removing-outliers-understanding-how-and-what-behind-the-magic-18a78ab480ff) I am making the assumption that to remove outliers you need to remove data beyond 3 standard deviations of the mean. The following is code to accomplish that."
      ],
      "metadata": {
        "id": "N0jusm7sfUGI"
      },
      "id": "N0jusm7sfUGI"
    },
    {
      "cell_type": "code",
      "source": [
        "threshold = 3\n",
        "rows_to_remove = set()\n",
        "for feature in df.columns[2:]:\n",
        "  mean = df[feature].mean()\n",
        "  std = df[feature].std()\n",
        "  lower_bound = mean - threshold * std\n",
        "  upper_bound = mean + threshold * std\n",
        "  test_ft = df[feature]\n",
        "  outliers = df[(test_ft < lower_bound) | (test_ft > upper_bound)].index\n",
        "  rows_to_remove.update(outliers)\n",
        "\n",
        "df.drop(index=list(rows_to_remove), axis=0, inplace=True)\n",
        "labels.drop(index=list(rows_to_remove), axis=0, inplace=True)\n",
        "id.drop(index=list(rows_to_remove), axis=0, inplace=True)\n",
        "\n",
        "print(len(df), len(labels), len(id))\n",
        "print(len(rows_to_remove))"
      ],
      "metadata": {
        "id": "Stl3lV_8bpsH",
        "colab": {
          "base_uri": "https://localhost:8080/"
        },
        "outputId": "b2825c77-24c6-479f-90f6-a11562975e50"
      },
      "id": "Stl3lV_8bpsH",
      "execution_count": 14,
      "outputs": [
        {
          "output_type": "stream",
          "name": "stdout",
          "text": [
            "493 493 493\n",
            "76\n"
          ]
        }
      ]
    },
    {
      "cell_type": "markdown",
      "id": "0f4ca3d7-e1d2-4b06-be0f-54e3f51de133",
      "metadata": {
        "id": "0f4ca3d7-e1d2-4b06-be0f-54e3f51de133"
      },
      "source": [
        "#### 9. **(20 points)** Select a subset of the features using the ANOVA test. Plot a histogram of all the ANOVA scores and decide which features to keep. Print which features those are."
      ]
    },
    {
      "cell_type": "code",
      "source": [
        "def select_features(\n",
        "    X: np.ndarray,\n",
        "    y: np.ndarray,\n",
        "    num_features: int,\n",
        "    score_func: str\n",
        ") -> tuple[np.ndarray, sklearn.feature_selection._univariate_selection.SelectKBest]:\n",
        "    if score_func == \"anova\":\n",
        "        # measure means between features and labels\n",
        "        fs = SelectKBest(score_func = f_classif, k = num_features)\n",
        "    else:\n",
        "        raise ValueError(f\"Unknown score function: {score_func}. Available functions: chi2, anova.\")\n",
        "    fs.fit(X, y)\n",
        "    X_fs = fs.transform(X)\n",
        "    return X_fs, fs"
      ],
      "metadata": {
        "id": "2NdWV3oiME0z"
      },
      "id": "2NdWV3oiME0z",
      "execution_count": 15,
      "outputs": []
    },
    {
      "cell_type": "code",
      "source": [
        "# Drop ad store id, since we dont want it as a feature\n",
        "id = df[0]\n",
        "df.drop(0, axis=1, inplace=True)\n",
        "\n",
        "X = df\n",
        "y = labels\n",
        "\n",
        "num_features_to_select = 7\n",
        "\n",
        "# first compute all features scores\n",
        "X_feat, fs = select_features(X, y, num_features_to_select, \"anova\")\n",
        "\n",
        "num_samples, num_features = X_feat.shape\n",
        "\n",
        "print(\"After feature selection:\")\n",
        "print(f\"Num samples: {num_samples}\")\n",
        "print(f\"Num features: {num_features}\")\n",
        "print(\"\")\n",
        "\n",
        "\n",
        "# what are scores for the features\n",
        "print(\"ANOVA feature scores:\")\n",
        "for i in range(len(fs.scores_)):\n",
        "    print(f\"Feature {i}: {fs.scores_[i]}\")\n",
        "\n",
        "# plot the scores\n",
        "# Note that the axis on the histogram starts from 0, because we've removed label and ID\n",
        "# for analysis. The actual feature being plotted is indexed in the df as index+2\n",
        "plt.bar([i for i in range(len(fs.scores_))], fs.scores_)\n",
        "plt.show()"
      ],
      "metadata": {
        "colab": {
          "base_uri": "https://localhost:8080/",
          "height": 1000
        },
        "id": "SNEXyUfbI7TU",
        "outputId": "0596488c-96ef-42e2-916e-e51d2df808d5"
      },
      "id": "SNEXyUfbI7TU",
      "execution_count": 16,
      "outputs": [
        {
          "output_type": "stream",
          "name": "stdout",
          "text": [
            "After feature selection:\n",
            "Num samples: 493\n",
            "Num features: 7\n",
            "\n",
            "ANOVA feature scores:\n",
            "Feature 0: 421.0168113889116\n",
            "Feature 1: 84.03256478087066\n",
            "Feature 2: 655.1673892724932\n",
            "Feature 3: 627.3866076660361\n",
            "Feature 4: 46.63586207512292\n",
            "Feature 5: 279.5573266960414\n",
            "Feature 6: 455.5639418558197\n",
            "Feature 7: 839.1291942033781\n",
            "Feature 8: 47.14257141169063\n",
            "Feature 9: 2.5198039895740005\n",
            "Feature 10: 293.99771425388263\n",
            "Feature 11: 0.061069574262044624\n",
            "Feature 12: 248.7384231709152\n",
            "Feature 13: 476.3778056047059\n",
            "Feature 14: 46.48917522973792\n",
            "Feature 15: 81.4459762987031\n",
            "Feature 16: 112.53856221157275\n",
            "Feature 17: 6.748478031973779\n",
            "Feature 18: 6.459462513658339\n",
            "Feature 19: 761.92217383664\n",
            "Feature 20: 115.48810526469221\n",
            "Feature 21: 694.5617163878438\n",
            "Feature 22: 819.5997274620557\n",
            "Feature 23: 93.32200871853814\n",
            "Feature 24: 247.76174664715992\n",
            "Feature 25: 447.03054503483315\n",
            "Feature 26: 575.0444119980083\n",
            "Feature 27: 88.64943025286296\n",
            "Feature 28: 54.96485099609761\n"
          ]
        },
        {
          "output_type": "display_data",
          "data": {
            "text/plain": [
              "<Figure size 640x480 with 1 Axes>"
            ],
            "image/png": "[encoded data removed]"
          },
          "metadata": {}
        }
      ]
    },
    {
      "cell_type": "markdown",
      "id": "aaaeb1c3-d8df-4a19-b378-f2ec8d20ab84",
      "metadata": {
        "id": "aaaeb1c3-d8df-4a19-b378-f2ec8d20ab84"
      },
      "source": [
        "#### 10. **(5 points)** After all the above, how many samples and features does the final dataset have?"
      ]
    },
    {
      "cell_type": "code",
      "source": [
        "# Get the indices of the relevant features\n",
        "selected_feature_indices = fs.get_support(indices=True)\n",
        "\n",
        "# Modify the original dataframe to keep only the selected features\n",
        "df = df.iloc[:, selected_feature_indices]\n",
        "\n",
        "# Note that the number 7 can be modified at will based on how many features we want to select.\n",
        "# As mentioned in office hours, I chose a number based on values above some threshold arbirtarily\n",
        "print(df.shape[0])\n",
        "print(df.shape[1])"
      ],
      "metadata": {
        "colab": {
          "base_uri": "https://localhost:8080/"
        },
        "id": "p8NtWoI3fzll",
        "outputId": "961bb68d-6da7-491e-8803-15d9ebd9483a"
      },
      "id": "p8NtWoI3fzll",
      "execution_count": 17,
      "outputs": [
        {
          "output_type": "stream",
          "name": "stdout",
          "text": [
            "493\n",
            "7\n"
          ]
        }
      ]
    },
    {
      "cell_type": "markdown",
      "id": "e353c9e6-e532-42c3-9288-3c50ed48a32f",
      "metadata": {
        "id": "e353c9e6-e532-42c3-9288-3c50ed48a32f"
      },
      "source": [
        "---"
      ]
    }
  ],
  "metadata": {
    "kernelspec": {
      "display_name": "Python 3 (ipykernel)",
      "language": "python",
      "name": "python3"
    },
    "language_info": {
      "codemirror_mode": {
        "name": "ipython",
        "version": 3
      },
      "file_extension": ".py",
      "mimetype": "text/x-python",
      "name": "python",
      "nbconvert_exporter": "python",
      "pygments_lexer": "ipython3",
      "version": "3.12.4"
    },
    "colab": {
      "provenance": []
    }
  },
  "nbformat": 4,
  "nbformat_minor": 5
}