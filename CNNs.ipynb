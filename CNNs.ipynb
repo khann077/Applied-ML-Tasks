{
  "cells": [
    {
      "cell_type": "markdown",
      "id": "e8c94c2f-ab44-4318-941a-2d474e1e8441",
      "metadata": {
        "id": "e8c94c2f-ab44-4318-941a-2d474e1e8441"
      },
      "source": [
        "---\n",
        "<h1 style=\"text-align: center;\">\n",
        "CSCI 4521: Applied Machine Learning (Fall 2024)\n",
        "</h1>\n",
        "\n",
        "<h1 style=\"text-align: center;\">\n",
        "Homework 6\n",
        "</h1>\n",
        "\n",
        "<h3 style=\"text-align: center;\">\n",
        "(Due Tue, Dec. 10, 11:59 PM CT)\n",
        "</h3>\n",
        "\n",
        "---"
      ]
    },
    {
      "cell_type": "markdown",
      "id": "4bafea59-8cdb-4666-8016-d3d2341fd062",
      "metadata": {
        "id": "4bafea59-8cdb-4666-8016-d3d2341fd062"
      },
      "source": [
        "![mnist.png](attachment:a66dea12-a8dc-4cd9-b987-36f0ffe55f5d.png)\n",
        "\n",
        "Image from https://en.wikipedia.org/wiki/MNIST_database"
      ]
    },
    {
      "cell_type": "markdown",
      "id": "bf573c05-3b91-4fe5-a0f4-9038560c93d5",
      "metadata": {
        "id": "bf573c05-3b91-4fe5-a0f4-9038560c93d5"
      },
      "source": [
        "### **Problem 1. (75 points)** In this problem, your task is to build and train a convolutional neural network (CNN) to classify hand-written digits. We will use the MNIST dataset where each data point is an image of a hand-written digit and its label indicates the value of the digit written ($0, 1, \\dots, 9$). Use the provided code (in `hw6_utils.py`) to load and normalize the data in this homework (you do not need to do any other preprocessing). Your CNN must have the following architecture:\n",
        "- #### Input: 1-channel input image of size 28x28 pixels\n",
        "- #### Convolution layer: Convolution kernel of size (3, 3) with a stride of 1, dilation of size 1, and bias. Number of input channels: 1; Number of output channels: 20; Do not use any padding\n",
        "- #### ReLU activation function\n",
        "- #### Max pool: 2x2 kernel size with stride of 2\n",
        "- #### Dropout layer with probability $p=0.50$\n",
        "- #### Flatten input for fully-connected layers\n",
        "- #### Fully-connected layer 1. Input is flattened output from conv layer with bias; Number of output nodes: 128\n",
        "- #### ReLU activation function\n",
        "- #### Dropout layer with probability $p=0.50$\n",
        "- #### Fully-connected layer 2: Number of input nodes: 128 and bias; Number of output nodes: 10\n",
        "- #### Softmax activation function on output layer (note, you do not need to specify this anywhere, it is included when using cross entropy loss `torch.nn.CrossEntropyLoss()`.\n",
        "\n",
        "### Train your CNN for $N$ epochs (you must decide $N$) on all the training data using vanilla SGD (e.g., `torch.optim.SGD()`) as the optimizer with mini batches of size 32 images and cross entropy loss (e.g., `torch.nn.CrossEntropyLoss()`). In each epoch, print out the cumulative training loss, training error rate, cumulative test loss, and test error rate. Once training has converged (you must decide when this happens), apply your learned model to the test set one last time and print out the cumulative test loss and test error rate. Also, randomly select 5 images which your model incorrectly predicted and plot the images. What is the correct label and what is the label your network predicted for each of the 5 images? Why do you think your model misclassified these images?"
      ]
    },
    {
      "cell_type": "markdown",
      "id": "4753a60e-803f-40a9-b64d-6e34d98ee1bf",
      "metadata": {
        "id": "4753a60e-803f-40a9-b64d-6e34d98ee1bf"
      },
      "source": [
        "### You must use **PyTorch** to build and train your neural network, no other packages will be accepted (for example, you cannot use Tensorflow). If you use anything other than PyTorch to build your network, you will receive no credit for this homework."
      ]
    },
    {
      "cell_type": "markdown",
      "id": "dd51e918-fc0c-40df-9e41-ea75d18637ea",
      "metadata": {
        "id": "dd51e918-fc0c-40df-9e41-ea75d18637ea"
      },
      "source": [
        "### Write your code and display your figures here"
      ]
    },
    {
      "cell_type": "code",
      "source": [
        "# Numpy Imports\n",
        "import numpy as np\n",
        "np.random.seed(5782267)\n",
        "\n",
        "# Torch imports\n",
        "import torch\n",
        "import torch.nn as nn\n",
        "import torch.optim as optim\n",
        "import torchvision\n",
        "from torchvision.transforms import Compose, ToTensor, Normalize\n",
        "\n",
        "# Miscellaneous imports\n",
        "from six.moves import urllib\n",
        "from sklearn.cluster import KMeans\n",
        "import matplotlib.pyplot as plt"
      ],
      "metadata": {
        "id": "K6Ke16fcyAHZ"
      },
      "id": "K6Ke16fcyAHZ",
      "execution_count": 93,
      "outputs": []
    },
    {
      "cell_type": "code",
      "source": [
        "# Helper functions from the given file.\n",
        "def load_MNIST(batch_size: int, normalize_vals: tuple[float, float]) -> tuple:\n",
        "\n",
        "    # for correctly download the dataset using torchvision, do not change!\n",
        "\n",
        "    opener = urllib.request.build_opener()\n",
        "    opener.addheaders = [('User-agent', 'Mozilla/5.0')]\n",
        "    urllib.request.install_opener(opener)\n",
        "\n",
        "    norm1_val, norm2_val = normalize_vals\n",
        "\n",
        "    transforms = Compose([ToTensor(), Normalize((norm1_val,), (norm2_val,))])\n",
        "\n",
        "\n",
        "    train_dataset = torchvision.datasets.MNIST(root='MNIST-data',\n",
        "                                               train=True,\n",
        "                                               download=True,\n",
        "                                               transform=transforms)\n",
        "\n",
        "    test_dataset = torchvision.datasets.MNIST(root='MNIST-data',\n",
        "                                              train=False,\n",
        "                                              transform=transforms)\n",
        "\n",
        "\n",
        "    train_loader = torch.utils.data.DataLoader(dataset=train_dataset,\n",
        "                                               batch_size=batch_size,\n",
        "                                               shuffle=False)\n",
        "\n",
        "\n",
        "    test_loader = torch.utils.data.DataLoader(dataset=test_dataset,\n",
        "                                              batch_size=batch_size,\n",
        "                                              shuffle=False)\n",
        "\n",
        "    return train_dataset, test_dataset, train_loader, test_loader\n",
        "\n",
        "\n",
        "def convert_data_to_numpy(dataset) -> tuple[np.ndarray, np.ndarray]:\n",
        "    X = []\n",
        "    y = []\n",
        "    for i in range(len(dataset)):\n",
        "        X.append(dataset[i][0][0].flatten().numpy())# flatten it to 1d vector\n",
        "        y.append(dataset[i][1])\n",
        "\n",
        "    X = np.array(X)\n",
        "    y = np.array(y)\n",
        "\n",
        "    return X, y\n",
        "\n",
        "# for plotting the low-dimensional points from PCA in Question 2\n",
        "def plot_points(points_x: list[float], points_y: list[float], labels: list[int], filename: str) -> None:\n",
        "\n",
        "    points_x = np.array(points_x)\n",
        "    points_y = np.array(points_y)\n",
        "    group = np.array(labels)\n",
        "    cdict = {0: 'tab:blue',\n",
        "             1: 'tab:orange',\n",
        "             2: 'tab:green',\n",
        "             3: 'tab:red',\n",
        "             4: 'tab:purple',\n",
        "             5: 'tab:brown',\n",
        "             6: 'tab:pink',\n",
        "             7: 'tab:gray',\n",
        "             8: 'tab:olive',\n",
        "             9: 'tab:cyan'}\n",
        "\n",
        "    fig, ax = plt.subplots()\n",
        "    for g in np.unique(group):\n",
        "        ix = np.where(group == g)\n",
        "        ax.scatter(points_x[ix], points_y[ix], c = cdict[g], label = g, s = 10)\n",
        "    ax.legend()\n",
        "\n",
        "    plt.savefig(filename)"
      ],
      "metadata": {
        "id": "ZMQzfJ4DyOJz"
      },
      "id": "ZMQzfJ4DyOJz",
      "execution_count": 94,
      "outputs": []
    },
    {
      "cell_type": "code",
      "execution_count": 95,
      "id": "57d1f6e4-02c7-4ee5-8595-5ea438c46fc2",
      "metadata": {
        "id": "57d1f6e4-02c7-4ee5-8595-5ea438c46fc2"
      },
      "outputs": [],
      "source": [
        "# Given values\n",
        "batch_size = 32\n",
        "normalize_vals = (0.1307, 0.3081)\n",
        "\n",
        "# load MNIST dataset\n",
        "train_dataset, test_dataset, train_loader, test_loader = load_MNIST(batch_size, normalize_vals)"
      ]
    },
    {
      "cell_type": "code",
      "source": [
        "# Build the CNN structure\n",
        "class build_cnn_model(nn.Module):\n",
        "  def __init__(self):\n",
        "    super().__init__()\n",
        "    # Using architecture specified in the assignment description\n",
        "    self.conv1= nn.Conv2d(1,20,kernel_size=3,stride=1,dilation=1,bias=True)\n",
        "    self.relu1= nn.ReLU()\n",
        "    self.pool1 = nn.MaxPool2d(kernel_size=2, stride=2)\n",
        "    self.dropout1 = nn.Dropout(0.5)\n",
        "    self.fc1 = nn.Linear(20*13*13, 128, bias=True)\n",
        "    self.relu2= nn.ReLU()\n",
        "    self.dropout2 = nn.Dropout(0.5)\n",
        "    self.fc2 = nn.Linear(128, 10, bias=True)\n",
        "\n",
        "  def forward(self, x):\n",
        "    x = self.conv1(x)\n",
        "    x = self.relu1(x)\n",
        "    x = self.pool1(x)\n",
        "    x = self.dropout1(x)\n",
        "    x = x.view(x.size(0), -1)\n",
        "    x = self.fc1(x)\n",
        "    x = self.relu2(x)\n",
        "    x = self.dropout2(x)\n",
        "    x = self.fc2(x)\n",
        "    return x\n",
        ""
      ],
      "metadata": {
        "id": "2dWu0H5K40HQ"
      },
      "id": "2dWu0H5K40HQ",
      "execution_count": 96,
      "outputs": []
    },
    {
      "cell_type": "code",
      "source": [
        "# Train and evaluate the model\n",
        "def train_and_evaluate(model, train_loader, test_loader, num_epochs, device):\n",
        "  # Defin functions to calculate entropy loss, and initalise the optimiser and model\n",
        "  entropy_loss= nn.CrossEntropyLoss()\n",
        "  optimizer = optim.SGD(model.parameters(), lr=0.01, momentum=0.9)\n",
        "  model = model.to(device)\n",
        "\n",
        "  # For all epochs\n",
        "  for epoch in range(num_epochs):\n",
        "    # Train the model\n",
        "    model.train()\n",
        "    training_loss_per_epoch= 0\n",
        "    correct_predictions= 0\n",
        "    total_trained_instances= 0\n",
        "\n",
        "    # For each data-pair in the training set\n",
        "    for image, label in train_loader:\n",
        "      # Get the image ad label\n",
        "      image =  image.to(device)\n",
        "      label = label.to(device)\n",
        "      optimizer.zero_grad()\n",
        "\n",
        "      # Predict using model\n",
        "      predict= model(image)\n",
        "      # Find loss\n",
        "      loss= entropy_loss(predict, label)\n",
        "      loss.backward()\n",
        "      optimizer.step()\n",
        "      # Add it to total loss\n",
        "      training_loss_per_epoch += loss.item()\n",
        "      #Get predicted value\n",
        "      _, predicted = torch.max(predict, 1)\n",
        "      total_trained_instances += label.size(0)\n",
        "      correct_predictions += (predicted == label).sum().item()\n",
        "\n",
        "    # calculate error rate\n",
        "    train_error_rate = 1 - (correct_predictions / total_trained_instances)\n",
        "    # test the model using the test set\n",
        "    model.eval()\n",
        "    test_loss = 0\n",
        "    correct_test= 0\n",
        "    total_test=0\n",
        "\n",
        "    with torch.no_grad():\n",
        "      # for each image label pair in the test data, repeat the same process as the training data\n",
        "      for image, label in test_loader:\n",
        "          image, label = image.to(device), label.to(device)\n",
        "          predict = model(image)\n",
        "          loss = entropy_loss(predict, label)\n",
        "\n",
        "          test_loss += loss.item()\n",
        "          _, predicted = torch.max(predict, 1)\n",
        "          total_test += label.size(0)\n",
        "          correct_test += (predicted == label).sum().item()\n",
        "\n",
        "    test_error_rate = 1 - (correct_test / total_test)\n",
        "\n",
        "    print(f\"Epoch {epoch+1}/{num_epochs}\")\n",
        "    print(f\"Train Loss: {training_loss_per_epoch:.4f}, Train Error Rate: {train_error_rate:.4f}\")\n",
        "    print(f\"Test Loss: {test_loss:.4f}, Test Error Rate: {test_error_rate:.4f}\")\n",
        "\n",
        "  # Final evaluation\n",
        "  print(\"\\n------Final Test Evaluation\")\n",
        "  print(f\"Test Loss: {test_loss:.4f}, Test Error Rate: {test_error_rate:.4f}\")\n",
        "\n",
        "  return model"
      ],
      "metadata": {
        "id": "g5KQ0nLO48U2"
      },
      "id": "g5KQ0nLO48U2",
      "execution_count": 97,
      "outputs": []
    },
    {
      "cell_type": "code",
      "execution_count": 98,
      "id": "13f4570c-1881-4f48-9fab-46edc3534e98",
      "metadata": {
        "id": "13f4570c-1881-4f48-9fab-46edc3534e98",
        "collapsed": true
      },
      "outputs": [],
      "source": [
        "# Plot misclassified images\n",
        "def plot_incorrect_images(model, test_loader, device):\n",
        "  # evalate the model\n",
        "  model.eval()\n",
        "  incorrect = []\n",
        "\n",
        "  with torch.no_grad():\n",
        "    # for each image in the test data if the incorrect image was predicted select it\n",
        "    for images, labels in test_loader:\n",
        "      images, labels = images.to(device), labels.to(device)\n",
        "      outputs = model(images)\n",
        "      _, predicted = torch.max(outputs, 1)\n",
        "\n",
        "      for img, pred, true in zip(images, predicted, labels):\n",
        "        if pred != true:\n",
        "            incorrect.append((img.cpu().numpy(), true.item(), pred.item()))\n",
        "        if len(incorrect) == 5:\n",
        "            break\n",
        "      if len(incorrect) == 5:\n",
        "        break\n",
        "\n",
        "  # Plot wrongly identified images\n",
        "  fig, axes = plt.subplots(1, 5, figsize=(10, 5))\n",
        "  for i, (img, true_label, pred_label) in enumerate(incorrect):\n",
        "    # This thing is so annoying, you get all kinds of errors without this configuration\n",
        "    # Essentially the image needs to show and the colors need to work for the data\n",
        "    axes[i].imshow(img.squeeze(), cmap=\"gray\")\n",
        "    axes[i].set_title(f\"True: {true_label}\\nPred: {pred_label}\")\n",
        "    axes[i].axis(\"off\")\n",
        "  plt.tight_layout()\n",
        "  plt.show()"
      ]
    },
    {
      "cell_type": "code",
      "source": [
        "# Given\n",
        "batch_size = 32\n",
        "normalize_vals = (0.1307, 0.3081)\n",
        "train_dataset, test_dataset, train_loader, test_loader = load_MNIST(batch_size, normalize_vals)\n",
        "\n",
        "# Instantiate the model, train, and evaluate\n",
        "device = torch.device(\"cuda\" if torch.cuda.is_available() else \"cpu\")\n",
        "model = build_cnn_model()\n",
        "# The error rate essentially stops decreasing significantly after this point\n",
        "num_epochs = 10\n",
        "trained_model = train_and_evaluate(model, train_loader, test_loader, num_epochs, device)\n",
        "\n",
        "# Plot misclassified images\n",
        "plot_incorrect_images(trained_model, test_loader, device)"
      ],
      "metadata": {
        "colab": {
          "base_uri": "https://localhost:8080/",
          "height": 752
        },
        "id": "Npv1BU-E5Avk",
        "outputId": "d6e4a755-7b91-42d7-8ad4-2fd21f4cf49b"
      },
      "id": "Npv1BU-E5Avk",
      "execution_count": 99,
      "outputs": [
        {
          "output_type": "stream",
          "name": "stdout",
          "text": [
            "Epoch 1/10\n",
            "Train Loss: 650.9137, Train Error Rate: 0.1073\n",
            "Test Loss: 28.0198, Test Error Rate: 0.0278\n",
            "Epoch 2/10\n",
            "Train Loss: 349.5802, Train Error Rate: 0.0583\n",
            "Test Loss: 23.0579, Test Error Rate: 0.0226\n",
            "Epoch 3/10\n",
            "Train Loss: 292.9754, Train Error Rate: 0.0468\n",
            "Test Loss: 17.5202, Test Error Rate: 0.0178\n",
            "Epoch 4/10\n",
            "Train Loss: 253.5526, Train Error Rate: 0.0414\n",
            "Test Loss: 16.1929, Test Error Rate: 0.0164\n",
            "Epoch 5/10\n",
            "Train Loss: 229.4957, Train Error Rate: 0.0373\n",
            "Test Loss: 15.1106, Test Error Rate: 0.0156\n",
            "Epoch 6/10\n",
            "Train Loss: 217.0924, Train Error Rate: 0.0354\n",
            "Test Loss: 16.4111, Test Error Rate: 0.0166\n",
            "Epoch 7/10\n",
            "Train Loss: 206.4287, Train Error Rate: 0.0333\n",
            "Test Loss: 13.9300, Test Error Rate: 0.0145\n",
            "Epoch 8/10\n",
            "Train Loss: 196.9506, Train Error Rate: 0.0308\n",
            "Test Loss: 13.6041, Test Error Rate: 0.0139\n",
            "Epoch 9/10\n",
            "Train Loss: 191.7729, Train Error Rate: 0.0312\n",
            "Test Loss: 14.0075, Test Error Rate: 0.0141\n",
            "Epoch 10/10\n",
            "Train Loss: 181.3975, Train Error Rate: 0.0296\n",
            "Test Loss: 12.9463, Test Error Rate: 0.0126\n",
            "\n",
            "------Final Test Evaluation\n",
            "Test Loss: 12.9463, Test Error Rate: 0.0126\n"
          ]
        },
        {
          "output_type": "display_data",
          "data": {
            "text/plain": [
              "<Figure size 1000x500 with 5 Axes>"
            ],
            "image/png": "[encoded data removed]"
          },
          "metadata": {}
        }
      ]
    },
    {
      "cell_type": "markdown",
      "id": "1f01bc24-24b7-429f-b69b-226f17fed8ac",
      "metadata": {
        "id": "1f01bc24-24b7-429f-b69b-226f17fed8ac"
      },
      "source": [
        "### Answer the text questions here"
      ]
    },
    {
      "cell_type": "markdown",
      "id": "b0b6625b-43d5-4d53-9110-ba80065e022c",
      "metadata": {
        "id": "b0b6625b-43d5-4d53-9110-ba80065e022c"
      },
      "source": [
        "Q. What is the correct label and what is the label your network predicted for each of the 5 images?\n",
        "A. the correct labels and the predictions are visible on the image provided above."
      ]
    },
    {
      "cell_type": "markdown",
      "id": "fa7ea5e0-563e-4995-94cf-ee46adbfe53c",
      "metadata": {
        "id": "fa7ea5e0-563e-4995-94cf-ee46adbfe53c"
      },
      "source": [
        "Q. Why do you think your model misclassified these images?\n",
        "A. I think there are several reaosns. For one, google colab limits the number of epochs I can run (I topped out at 13, but the error rate stopped decreasing significantly after 10), and so I could probably improve perfromance with more epochs.\n",
        "Additionally there are intrinsic similarities in the pictures and the predictions and I can see why the model might mistake these. For example, in one iteration the 2 had a very small \"base\" making it look like a 7 with a small error at the bottom. Since the model aggregates infromation, it would look like more 7's that it was trained on, then 2's."
      ]
    },
    {
      "cell_type": "markdown",
      "id": "bdc3199a-80a9-4a63-a2d7-56ed2d16755c",
      "metadata": {
        "id": "bdc3199a-80a9-4a63-a2d7-56ed2d16755c"
      },
      "source": [
        "---"
      ]
    },
    {
      "cell_type": "markdown",
      "id": "65196e36-37f0-48e6-af2c-3c5e6a24aee3",
      "metadata": {
        "id": "65196e36-37f0-48e6-af2c-3c5e6a24aee3"
      },
      "source": [
        "\n",
        "### **Problem 2. (25 points)** In this problem, your task is to apply principal component analysis (PCA) to the MNIST dataset to reduce the dimensionality of each image from 784 to 2 and visualize the images in the lower-dimensional subspace. Apply PCA to all the training data to learn the projection vector. Then, project each image in the training dataset to $\\mathbb{R}^2$. Use the provided plotting function `plot_points()` (in `hw6_utils.py`) to plot each projected image as a point in a 2-dimensional figure where the x-axis is principal component 1 and the y-axis is principal component 2. Color each point in the figure according to the label of each image so we can visualize how well PCA reduced the dimensionality according to how closely the images are grouped by label. (Note, only use the labels to visualize how well PCA did, do not use the labels anywhere else.) What are your observations from the figure? Where did PCA reduce the dimensionality well and where did it not do well? Note, you may get some complex numbers when computing the eigenvalues and eigenvectors. You can use `np.real()` to only keep the real part.\n"
      ]
    },
    {
      "cell_type": "markdown",
      "id": "50def97f-d295-4853-92e4-db2bee3898ef",
      "metadata": {
        "id": "50def97f-d295-4853-92e4-db2bee3898ef"
      },
      "source": [
        "### Write your code and display your figures here"
      ]
    },
    {
      "cell_type": "code",
      "execution_count": 100,
      "id": "33e09a9b-28e8-4c49-9670-0545df8b6bc8",
      "metadata": {
        "id": "33e09a9b-28e8-4c49-9670-0545df8b6bc8"
      },
      "outputs": [],
      "source": [
        "# Setup system\n",
        "np.random.seed(5782267)\n",
        "normalize_vals = (0.1307, 0.3081)\n",
        "batch_size = 100\n",
        "\n",
        "# load MNIST dataset\n",
        "train_dataset, test_dataset, train_loader, test_loader = load_MNIST(batch_size, normalize_vals)\n",
        "\n",
        "# convert to numpy\n",
        "X, y = convert_data_to_numpy(train_dataset)"
      ]
    },
    {
      "cell_type": "code",
      "execution_count": 101,
      "id": "8b5baa7b-6c7e-4933-ac44-41aec9143e0f",
      "metadata": {
        "id": "8b5baa7b-6c7e-4933-ac44-41aec9143e0f",
        "colab": {
          "base_uri": "https://localhost:8080/",
          "height": 448
        },
        "outputId": "8e4a453b-7c21-4841-dadd-3e884f787598"
      },
      "outputs": [
        {
          "output_type": "stream",
          "name": "stdout",
          "text": [
            "PCA projection complete. Saved visualization to 'mnist_pca_projection.png'.\n"
          ]
        },
        {
          "output_type": "display_data",
          "data": {
            "text/plain": [
              "<Figure size 640x480 with 1 Axes>"
            ],
            "image/png": "[encoded data removed]"
          },
          "metadata": {}
        }
      ],
      "source": [
        "# Standardize data\n",
        "X = X - np.mean(X, axis=0)\n",
        "\n",
        "# Compute the covariance matrix\n",
        "cov_matrix = np.cov(X, rowvar=False)\n",
        "\n",
        "# Select the top 2 real eigenvectors of the covariance matrix\n",
        "eigvals, eigvects = np.linalg.eig(cov_matrix)\n",
        "eigvals= np.real(eigvals)\n",
        "eigvects= np.real(eigvects)\n",
        "index= np.argsort(eigvals)[::-1]\n",
        "eigvals = eigvals[index]\n",
        "eigvects = eigvects[:, index]\n",
        "top_2_eigvects = eigvects[:, :2]\n",
        "\n",
        "# Map data onto the 2 eigenvectors we calculated\n",
        "X = np.dot(X, top_2_eigvects)\n",
        "# Split data into x and y axes for graphing\n",
        "projected_x = X[:, 0]\n",
        "projected_y = X[:, 1]\n",
        "\n",
        "# Plot answer\n",
        "plot_points(projected_x, projected_y, y, \"mnist_pca_projection.png\")\n",
        "\n",
        "print(\"PCA projection complete. Saved visualization to 'mnist_pca_projection.png'.\")\n"
      ]
    },
    {
      "cell_type": "markdown",
      "id": "e77165d1-e243-46d3-a1c6-fa476cea8c67",
      "metadata": {
        "id": "e77165d1-e243-46d3-a1c6-fa476cea8c67"
      },
      "source": [
        "### Answer the text questions here"
      ]
    },
    {
      "cell_type": "markdown",
      "source": [
        "Q. What are your observations from the figure?\n",
        "A. The PCA actually looks a lttle messier than I thought it would. There are boundaries of grey and brown in specific that look minimal enough to be consumed by other groupings which must mean there are interesting properties that can be learned about these features in larger dmensions. Specifically however:\n",
        "\n",
        "\n",
        "1.   9, 0, 1 and 2 seem well differentiated\n",
        "2.   6, 3 and 7 seem to have a lot of overlap specifically with (0,8), 7 and 9 respectively. This makes some degree of sense because of structural similarities in the nubers. FOr example, a 6 with a high connection point for the loop looks similar to a 0, and one with too curved of a top loop looks very similar to 8.\n",
        "\n"
      ],
      "metadata": {
        "id": "C_7T-l7_EdD4"
      },
      "id": "C_7T-l7_EdD4"
    },
    {
      "cell_type": "markdown",
      "source": [
        " Q. Where did PCA reduce the dimensionality well and where did it not do well?\n",
        " A. The PCA did well clustering 0, and not so well clustering 1,4,7,9. 1 and 7 in particular are not so well grouped, potentiall because they are both essentially the same lines, drawn at slight different angles to a varying length."
      ],
      "metadata": {
        "id": "Kk66ecP7E6l8"
      },
      "id": "Kk66ecP7E6l8"
    },
    {
      "cell_type": "markdown",
      "id": "f811f6d2-d172-4380-834c-189e01566196",
      "metadata": {
        "id": "f811f6d2-d172-4380-834c-189e01566196"
      },
      "source": [
        "---"
      ]
    },
    {
      "cell_type": "markdown",
      "id": "b53d95af-5fa7-4834-bdec-ce002351e200",
      "metadata": {
        "id": "b53d95af-5fa7-4834-bdec-ce002351e200"
      },
      "source": [
        "## Extra Credit Problems\n",
        "\n",
        "### In order for extra credit solutions to be considered, you must provide reasonable solutions to all parts of Problems 1 and 2 above. If you skip any part of a problem or do not provide a reasonable solution, we will not count any extra credit towards your grade.\n",
        "\n",
        "---"
      ]
    },
    {
      "cell_type": "markdown",
      "id": "c5ea0cfe-613a-46ed-afcb-42197b621c51",
      "metadata": {
        "id": "c5ea0cfe-613a-46ed-afcb-42197b621c51"
      },
      "source": [
        "### **Extra Credit 1. (3 points)** Describe how to split the data to train a machine learning model (e.g., SVM). Make sure to describe two ways, one using cross validation and another without using cross validation. Explain why we split the data in these ways and what can happen if the data is split incorrectly."
      ]
    },
    {
      "cell_type": "markdown",
      "id": "9be4a07e-d12d-474c-afea-f8fe25f266d4",
      "metadata": {
        "id": "9be4a07e-d12d-474c-afea-f8fe25f266d4"
      },
      "source": [
        "### Answer the questions here"
      ]
    },
    {
      "cell_type": "markdown",
      "id": "58ee3641-b79a-4a83-a2f6-2f3a3ece1beb",
      "metadata": {
        "id": "58ee3641-b79a-4a83-a2f6-2f3a3ece1beb"
      },
      "source": [
        "1. One way to split data when using SVMs is to split it into a straight train-test split without considering cross validation.\n",
        "2. This can in some specific ratio as per your needs, but typical splits include 80-20 or 70-30.\n",
        "3. The main reason to split data is to ensure our model is making prediction on data it has never seen before. We dont want the model to overfit to any specific dataset, instead wanting it to be generalist.\n",
        "4. If the split is imbalanced in some way, for example if we pick a set of data with all values in some column between 1-20, when in fact the wider dataset has a trend of ranging from anywhere between 1 and 70, we will liekly never see higher predictions. That is to say if we are not random enough we can misrepresent the data."
      ]
    },
    {
      "cell_type": "markdown",
      "id": "13697972-b8ee-4472-bd2f-1b5e1e7fbfe1",
      "metadata": {
        "id": "13697972-b8ee-4472-bd2f-1b5e1e7fbfe1"
      },
      "source": [
        "1. Another way to split data is to include a component of cross validation.\n",
        "2. In this case we segment the data into groups or \"folds\". Over all possible i iterations we select the ith fold to use as test data, and use the rest for training.\n",
        "3. Then, since we have i results for the i choices, we use some strategy to select the best representative like average or median.\n",
        "4. The reason we make this split is one to avoid bias more systematically by accounting for more possible unseen points, and also because our estimate is now better for any general dataset without increasing our dataset size which can be industrially expensive.\n",
        "5. Issues that can occur were we to split the data incorrectly include an obvious increase in runtime and real costs, and also data leakage, because if we process the data before splitting it, we may inadvertantently discover the testing sets feature from infromation that should have stayed confidential from train set."
      ]
    },
    {
      "cell_type": "markdown",
      "id": "e8a381cc-5dbc-476c-90d0-be8c9d8f7d4f",
      "metadata": {
        "id": "e8a381cc-5dbc-476c-90d0-be8c9d8f7d4f"
      },
      "source": [
        "---"
      ]
    },
    {
      "cell_type": "markdown",
      "id": "147e90f0-f97e-43b3-9d64-26758a0b2170",
      "metadata": {
        "id": "147e90f0-f97e-43b3-9d64-26758a0b2170"
      },
      "source": [
        "### **Extra Credit 2. (10 points)** In this problem, your task is to segment an image using $k$-means. We can use $k$-means to cluster pixels with similar (color) values together to generate a segmented or compressed version of the original image. Apply $k$-means to the provided image `umn_csci.png`. For each $k=\\{3,5,7\\}$, generate a segmented image and compute the cumulative loss (i.e., distortion measure from the lecture notes). (Note, it may be helpful to test on a smaller version of the image `umn_csci.png` to ensure your code works but report final results on the full version.)"
      ]
    },
    {
      "cell_type": "markdown",
      "id": "22244715-20e1-466d-9fc7-ad7be5d946ec",
      "metadata": {
        "id": "22244715-20e1-466d-9fc7-ad7be5d946ec"
      },
      "source": [
        "### Write your code and display your figures here"
      ]
    },
    {
      "cell_type": "code",
      "execution_count": 102,
      "id": "13fe7728-6c86-4e7f-b95a-d06ea07b9fbf",
      "metadata": {
        "id": "13fe7728-6c86-4e7f-b95a-d06ea07b9fbf",
        "colab": {
          "base_uri": "https://localhost:8080/"
        },
        "outputId": "94e0346e-dffa-4f71-887c-600386dbbc85"
      },
      "outputs": [
        {
          "output_type": "stream",
          "name": "stdout",
          "text": [
            "Drive already mounted at /content/drive; to attempt to forcibly remount, call drive.mount(\"/content/drive\", force_remount=True).\n"
          ]
        }
      ],
      "source": [
        "# Looked at popular libraries for image loading and also resizing found this using perplexity\n",
        "# https://scikit-image.org/docs/stable/api/skimage.html\n",
        "from skimage.io import imread\n",
        "from skimage.transform import resize\n",
        "\n",
        "# Colab imports\n",
        "from google.colab import drive\n",
        "drive.mount('/content/drive')"
      ]
    },
    {
      "cell_type": "code",
      "execution_count": 103,
      "id": "8968a1c3-9285-4bb9-9945-c397066eeaa2",
      "metadata": {
        "id": "8968a1c3-9285-4bb9-9945-c397066eeaa2"
      },
      "outputs": [],
      "source": [
        "# Read the image\n",
        "img = imread('/content/drive/MyDrive/colab_data/umn_csci.png')\n",
        "\n",
        "# test_img = resize(img, (img.shape[0] // 4, img.shape[1] // 4), anti_aliasing=True)"
      ]
    },
    {
      "cell_type": "code",
      "execution_count": 104,
      "id": "55377bba-ab10-4674-843a-346aaf495d37",
      "metadata": {
        "id": "55377bba-ab10-4674-843a-346aaf495d37"
      },
      "outputs": [],
      "source": [
        "# Normalise\n",
        "img = img / 255.0\n",
        "\n",
        "# Because the image is RGBA\n",
        "flattened_img = img.reshape(-1, img.shape[-1])"
      ]
    },
    {
      "cell_type": "code",
      "source": [
        "def make_image_segments(flattened_img, k_groups=10):\n",
        "  # Do the clustering\n",
        "  kmeans = KMeans(n_clusters=k_groups, random_state=5782267).fit(flattened_img)\n",
        "  labels = kmeans.labels_\n",
        "  centers = kmeans.cluster_centers_\n",
        "  distortion = kmeans.inertia_\n",
        "  segments = centers[labels]\n",
        "  segments = segments.reshape(img.shape)\n",
        "  return segments, distortion\n",
        "\n",
        "for k in [3, 5, 7]:\n",
        "  seg, dis = make_image_segments(flattened_img, k)\n",
        "  print(f\"k={k}, distortion={dis}\")"
      ],
      "metadata": {
        "colab": {
          "base_uri": "https://localhost:8080/"
        },
        "id": "wOJujjNihVk_",
        "outputId": "b57a1a09-69eb-4704-efe5-ec3b9eb7dbb7"
      },
      "id": "wOJujjNihVk_",
      "execution_count": 105,
      "outputs": [
        {
          "output_type": "stream",
          "name": "stdout",
          "text": [
            "k=3, distortion=10017.112756137\n",
            "k=5, distortion=4282.372945822203\n",
            "k=7, distortion=2318.3383138276085\n"
          ]
        }
      ]
    },
    {
      "cell_type": "markdown",
      "id": "f43fd12c-bb33-4145-a148-89a5d3c3c8b8",
      "metadata": {
        "id": "f43fd12c-bb33-4145-a148-89a5d3c3c8b8"
      },
      "source": [
        "---"
      ]
    },
    {
      "cell_type": "markdown",
      "id": "3294f4cf-6115-41ca-9b51-9686e3e1806d",
      "metadata": {
        "id": "3294f4cf-6115-41ca-9b51-9686e3e1806d"
      },
      "source": [
        "### For all problems, make sure to write and submit clean, working code. Reminder, you cannot use ChatGPT or similar technologies. Please see the syllabus for more details."
      ]
    }
  ],
  "metadata": {
    "colab": {
      "provenance": []
    },
    "kernelspec": {
      "display_name": "Python 3 (ipykernel)",
      "language": "python",
      "name": "python3"
    },
    "language_info": {
      "codemirror_mode": {
        "name": "ipython",
        "version": 3
      },
      "file_extension": ".py",
      "mimetype": "text/x-python",
      "name": "python",
      "nbconvert_exporter": "python",
      "pygments_lexer": "ipython3",
      "version": "3.12.4"
    }
  },
  "nbformat": 4,
  "nbformat_minor": 5
}